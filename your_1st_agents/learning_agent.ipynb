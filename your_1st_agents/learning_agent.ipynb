{
 "cells": [
  {
   "cell_type": "code",
   "execution_count": null,
   "metadata": {},
   "outputs": [],
   "source": [
    "# 0 - Choose an alogrithm from ray.rllib.algorithms, e.g. ray.rllib.algorithms.xxx as\n",
    "# xxx\n",
    "# 1 - Configure the xxx algorithm\n",
    "# 1.1 - Convert the config to a dict by config.to_dict()\n",
    "# 1.2 - Examine the config and modify it if needed, e.g. change the \"learnign rate\"\n",
    "# to 0.0001, or the framework, or env\n",
    "# 2 - Create an agent with .build, train it, and examine the training reports report = agent.train()\n",
    "# 3 - Train the agent,\n",
    "\n",
    "# 4 - Run a loop for nr_trainings = 50 times agent.train()\n",
    "\n",
    "# 5 - Visualize the trained agent; This is similar to running the random_agent,\n",
    "# except that this time we have a trained agent\n",
    "# 5.1 - Create an environment similar to the training env.\n",
    "    # 5.2. Let the agent choose an action;\n",
    "    # 5.3. and pass it to the environment\n",
    "    # 5.4. How much reward did you get for that action? Keep the score!\n",
    "    # 5.5. Repeat the 5.{2,3, 4} until the end of the episode\n",
    "    # visualize the agent\n",
    "    # continue with the next step without closing the plot\n",
    "\n",
    "# 5.6. How much total reward you got? What does it mean to have large/small reward?\n"
   ]
  },
  {
   "cell_type": "code",
   "execution_count": 8,
   "metadata": {},
   "outputs": [
    {
     "name": "stderr",
     "output_type": "stream",
     "text": [
      "2023-08-19 18:05:41,504\tWARNING util.py:68 -- Install gputil for GPU system monitoring.\n"
     ]
    },
    {
     "name": "stdout",
     "output_type": "stream",
     "text": [
      "{'custom_metrics': {}, 'episode_media': {}, 'info': {'learner': {}, 'num_env_steps_sampled': 1000, 'num_env_steps_trained': 0, 'num_agent_steps_sampled': 1000, 'num_agent_steps_trained': 0}, 'sampler_results': {'episode_reward_max': 54.0, 'episode_reward_min': 10.0, 'episode_reward_mean': 22.953488372093023, 'episode_len_mean': 22.953488372093023, 'episode_media': {}, 'episodes_this_iter': 43, 'policy_reward_min': {}, 'policy_reward_max': {}, 'policy_reward_mean': {}, 'custom_metrics': {}, 'hist_stats': {'episode_reward': [11.0, 11.0, 14.0, 11.0, 38.0, 15.0, 36.0, 18.0, 18.0, 41.0, 23.0, 51.0, 20.0, 54.0, 19.0, 22.0, 42.0, 31.0, 16.0, 21.0, 14.0, 17.0, 18.0, 25.0, 18.0, 17.0, 13.0, 28.0, 18.0, 10.0, 35.0, 14.0, 12.0, 46.0, 35.0, 17.0, 29.0, 11.0, 17.0, 34.0, 18.0, 15.0, 14.0], 'episode_lengths': [11, 11, 14, 11, 38, 15, 36, 18, 18, 41, 23, 51, 20, 54, 19, 22, 42, 31, 16, 21, 14, 17, 18, 25, 18, 17, 13, 28, 18, 10, 35, 14, 12, 46, 35, 17, 29, 11, 17, 34, 18, 15, 14]}, 'sampler_perf': {'mean_raw_obs_processing_ms': 0.6397249219896316, 'mean_inference_ms': 0.6535615358914767, 'mean_action_processing_ms': 0.12399266649793078, 'mean_env_wait_ms': 0.054704083072079274, 'mean_env_render_ms': 0.0}, 'num_faulty_episodes': 0, 'connector_metrics': {'ObsPreprocessorConnector_ms': 0.005585093830907067, 'StateBufferConnector_ms': 0.004117433414902798, 'ViewRequirementAgentConnector_ms': 0.08908205254133357}}, 'episode_reward_max': 54.0, 'episode_reward_min': 10.0, 'episode_reward_mean': 22.953488372093023, 'episode_len_mean': 22.953488372093023, 'episodes_this_iter': 43, 'policy_reward_min': {}, 'policy_reward_max': {}, 'policy_reward_mean': {}, 'hist_stats': {'episode_reward': [11.0, 11.0, 14.0, 11.0, 38.0, 15.0, 36.0, 18.0, 18.0, 41.0, 23.0, 51.0, 20.0, 54.0, 19.0, 22.0, 42.0, 31.0, 16.0, 21.0, 14.0, 17.0, 18.0, 25.0, 18.0, 17.0, 13.0, 28.0, 18.0, 10.0, 35.0, 14.0, 12.0, 46.0, 35.0, 17.0, 29.0, 11.0, 17.0, 34.0, 18.0, 15.0, 14.0], 'episode_lengths': [11, 11, 14, 11, 38, 15, 36, 18, 18, 41, 23, 51, 20, 54, 19, 22, 42, 31, 16, 21, 14, 17, 18, 25, 18, 17, 13, 28, 18, 10, 35, 14, 12, 46, 35, 17, 29, 11, 17, 34, 18, 15, 14]}, 'sampler_perf': {'mean_raw_obs_processing_ms': 0.6397249219896316, 'mean_inference_ms': 0.6535615358914767, 'mean_action_processing_ms': 0.12399266649793078, 'mean_env_wait_ms': 0.054704083072079274, 'mean_env_render_ms': 0.0}, 'num_faulty_episodes': 0, 'connector_metrics': {'ObsPreprocessorConnector_ms': 0.005585093830907067, 'StateBufferConnector_ms': 0.004117433414902798, 'ViewRequirementAgentConnector_ms': 0.08908205254133357}, 'num_healthy_workers': 0, 'num_in_flight_async_reqs': 0, 'num_remote_worker_restarts': 0, 'num_agent_steps_sampled': 1000, 'num_agent_steps_trained': 0, 'num_env_steps_sampled': 1000, 'num_env_steps_trained': 0, 'num_env_steps_sampled_this_iter': 1000, 'num_env_steps_trained_this_iter': 0, 'num_env_steps_sampled_throughput_per_sec': 478.178120638537, 'num_env_steps_trained_throughput_per_sec': 0.0, 'timesteps_total': 1000, 'num_steps_trained_this_iter': 0, 'agent_timesteps_total': 1000, 'timers': {'training_iteration_time_ms': 1.98, 'sample_time_ms': 1.787}, 'counters': {'num_env_steps_sampled': 1000, 'num_env_steps_trained': 0, 'num_agent_steps_sampled': 1000, 'num_agent_steps_trained': 0}, 'done': False, 'episodes_total': 43, 'training_iteration': 1, 'trial_id': 'default', 'date': '2023-08-19_18-05-43', 'timestamp': 1692461143, 'time_this_iter_s': 2.0917892456054688, 'time_total_s': 2.0917892456054688, 'pid': 706475, 'hostname': 'dyson', 'node_ip': '129.26.133.103', 'config': {'extra_python_environs_for_driver': {}, 'extra_python_environs_for_worker': {}, 'num_gpus': 0, 'num_cpus_per_worker': 1, 'num_gpus_per_worker': 0, '_fake_gpus': False, 'num_learner_workers': 0, 'num_gpus_per_learner_worker': 0, 'num_cpus_per_learner_worker': 1, 'local_gpu_idx': 0, 'custom_resources_per_worker': {}, 'placement_strategy': 'PACK', 'eager_tracing': True, 'eager_max_retraces': 20, 'tf_session_args': {'intra_op_parallelism_threads': 2, 'inter_op_parallelism_threads': 2, 'gpu_options': {'allow_growth': True}, 'log_device_placement': False, 'device_count': {'CPU': 1}, 'allow_soft_placement': True}, 'local_tf_session_args': {'intra_op_parallelism_threads': 8, 'inter_op_parallelism_threads': 8}, 'torch_compile_learner': False, 'torch_compile_learner_what_to_compile': <TorchCompileWhatToCompile.FORWARD_TRAIN: 'forward_train'>, 'torch_compile_learner_dynamo_backend': 'inductor', 'torch_compile_learner_dynamo_mode': None, 'torch_compile_worker': False, 'torch_compile_worker_dynamo_backend': 'onnxrt', 'torch_compile_worker_dynamo_mode': None, 'env': 'CartPole-v1', 'env_config': {}, 'observation_space': None, 'action_space': None, 'env_task_fn': None, 'render_env': False, 'clip_rewards': None, 'normalize_actions': True, 'clip_actions': False, 'disable_env_checking': False, '_is_atari': None, 'auto_wrap_old_gym_envs': True, 'action_mask_key': 'action_mask', 'env_runner_cls': None, 'num_envs_per_worker': 1, 'sample_collector': <class 'ray.rllib.evaluation.collectors.simple_list_collector.SimpleListCollector'>, 'sample_async': False, 'enable_connectors': True, 'update_worker_filter_stats': True, 'use_worker_filter_stats': True, 'rollout_fragment_length': 'auto', 'batch_mode': 'truncate_episodes', 'remote_worker_envs': False, 'remote_env_batch_wait_ms': 0, 'validate_workers_after_construction': True, 'preprocessor_pref': 'deepmind', 'observation_filter': 'NoFilter', 'compress_observations': False, 'enable_tf1_exec_eagerly': False, 'sampler_perf_stats_ema_coef': None, 'gamma': 0.99, 'lr': 0.0005, 'grad_clip': 40.0, 'grad_clip_by': 'global_norm', 'train_batch_size': 32, 'model': {'_disable_preprocessor_api': False, '_disable_action_flattening': False, 'fcnet_hiddens': [256, 256], 'fcnet_activation': 'tanh', 'conv_filters': None, 'conv_activation': 'relu', 'post_fcnet_hiddens': [], 'post_fcnet_activation': 'relu', 'free_log_std': False, 'no_final_linear': False, 'vf_share_layers': True, 'use_lstm': False, 'max_seq_len': 20, 'lstm_cell_size': 256, 'lstm_use_prev_action': False, 'lstm_use_prev_reward': False, '_time_major': False, 'use_attention': False, 'attention_num_transformer_units': 1, 'attention_dim': 64, 'attention_num_heads': 1, 'attention_head_dim': 32, 'attention_memory_inference': 50, 'attention_memory_training': 50, 'attention_position_wise_mlp_dim': 32, 'attention_init_gru_gate_bias': 2.0, 'attention_use_n_prev_actions': 0, 'attention_use_n_prev_rewards': 0, 'framestack': True, 'dim': 84, 'grayscale': False, 'zero_mean': True, 'custom_model': None, 'custom_model_config': {}, 'custom_action_dist': None, 'custom_preprocessor': None, 'encoder_latent_dim': None, 'always_check_shapes': False, 'lstm_use_prev_action_reward': -1, '_use_default_native_models': -1}, 'optimizer': {}, 'max_requests_in_flight_per_sampler_worker': 2, '_learner_class': None, '_enable_learner_api': False, 'explore': True, 'exploration_config': {'type': 'EpsilonGreedy', 'initial_epsilon': 1.0, 'final_epsilon': 0.02, 'epsilon_timesteps': 10000}, 'algorithm_config_overrides_per_module': {}, 'policy_map_capacity': 100, 'policy_mapping_fn': <function AlgorithmConfig.DEFAULT_POLICY_MAPPING_FN at 0x7f00b9b7c5e0>, 'policies_to_train': None, 'policy_states_are_swappable': False, 'observation_fn': None, 'count_steps_by': 'env_steps', 'input_config': {}, 'actions_in_input_normalized': False, 'postprocess_inputs': False, 'shuffle_buffer_size': 0, 'output': None, 'output_config': {}, 'output_compress_columns': ['obs', 'new_obs'], 'output_max_file_size': 67108864, 'offline_sampling': False, 'evaluation_interval': None, 'evaluation_duration': 10, 'evaluation_duration_unit': 'episodes', 'evaluation_sample_timeout_s': 180.0, 'evaluation_parallel_to_training': False, 'evaluation_config': {'explore': False}, 'off_policy_estimation_methods': {}, 'ope_split_batch_by_episode': True, 'evaluation_num_workers': 0, 'always_attach_evaluation_results': False, 'enable_async_evaluation': False, 'in_evaluation': False, 'sync_filters_on_rollout_workers_timeout_s': 60.0, 'keep_per_episode_custom_metrics': False, 'metrics_episode_collection_timeout_s': 60.0, 'metrics_num_episodes_for_smoothing': 100, 'min_time_s_per_iteration': None, 'min_train_timesteps_per_iteration': 0, 'min_sample_timesteps_per_iteration': 1000, 'export_native_model_files': False, 'checkpoint_trainable_policies_only': False, 'logger_creator': None, 'logger_config': None, 'log_level': 'WARN', 'log_sys_usage': True, 'fake_sampler': False, 'seed': None, 'ignore_worker_failures': False, 'recreate_failed_workers': False, 'max_num_worker_restarts': 1000, 'delay_between_worker_restarts_s': 60.0, 'restart_failed_sub_environments': False, 'num_consecutive_worker_failures_tolerance': 100, 'worker_health_probe_timeout_s': 60, 'worker_restore_timeout_s': 1800, 'rl_module_spec': None, '_enable_rl_module_api': False, '_AlgorithmConfig__prior_exploration_config': None, '_tf_policy_handles_more_than_one_loss': False, '_disable_preprocessor_api': False, '_disable_action_flattening': False, '_disable_execution_plan_api': True, '_disable_initialize_loss_from_dummy_batch': False, 'simple_optimizer': False, 'policy_map_cache': -1, 'worker_cls': -1, 'synchronize_filters': -1, 'replay_sequence_length': None, 'target_network_update_freq': 500, 'replay_buffer_config': {'type': <class 'ray.rllib.utils.replay_buffers.multi_agent_prioritized_replay_buffer.MultiAgentPrioritizedReplayBuffer'>, 'prioritized_replay': -1, 'capacity': 50000, 'prioritized_replay_alpha': 0.6, 'prioritized_replay_beta': 0.4, 'prioritized_replay_eps': 1e-06, 'replay_sequence_length': 1, 'worker_side_prioritization': False}, 'num_steps_sampled_before_learning_starts': 1000, 'store_buffer_in_checkpoints': False, 'lr_schedule': None, 'adam_epsilon': 1e-08, 'tau': 1.0, 'num_atoms': 1, 'v_min': -10.0, 'v_max': 10.0, 'noisy': False, 'sigma0': 0.5, 'dueling': True, 'hiddens': [256], 'double_q': True, 'n_step': 1, 'before_learn_on_batch': None, 'training_intensity': None, 'td_error_loss_fn': 'huber', 'categorical_distribution_temperature': 1.0, 'input': 'sampler', 'policies': {'default_policy': (None, None, None, None)}, 'callbacks': <class 'ray.rllib.algorithms.callbacks.DefaultCallbacks'>, 'create_env_on_driver': False, 'custom_eval_function': None, 'framework': 'tf', 'num_cpus_for_driver': 1, 'num_workers': 0}, 'time_since_restore': 2.0917892456054688, 'iterations_since_restore': 1, 'perf': {'cpu_util_percent': 21.5, 'ram_util_percent': 39.6}}\n",
      "0 20.416666666666668\n",
      "1 19.35\n",
      "2 23.16\n",
      "3 28.44\n",
      "4 34.17\n"
     ]
    }
   ],
   "source": [
    "import gymnasium as gym\n",
    "from plot_util import visualize_env\n",
    "# xxx\n",
    "from ray.rllib.algorithms.dqn import DQNConfig\n",
    "import matplotlib.pyplot as plt\n",
    "\n",
    "config = DQNConfig()\n",
    "config_as_dict = config.to_dict()\n",
    "config.environment(env=\"CartPole-v1\")\n",
    "config.framework(\"tf\")\n",
    "\n",
    "# Directory to store captured images\n",
    "output_directory = \"frames/\"\n",
    "\n",
    "agent = config.build()\n",
    "reports = agent.train()\n",
    "print(reports)\n",
    "\n",
    "nr_trainings = 5\n",
    "for _ in range(nr_trainings):\n",
    "    reports = agent.train()\n",
    "    print(_, reports[\"episode_reward_mean\"])\n",
    "\n",
    "\n"
   ]
  },
  {
   "cell_type": "code",
   "execution_count": 20,
   "metadata": {},
   "outputs": [
    {
     "data": {
      "image/png": "[encoded data removed]",
      "text/plain": [
       "<Figure size 640x480 with 1 Axes>"
      ]
     },
     "metadata": {},
     "output_type": "display_data"
    },
    {
     "name": "stdout",
     "output_type": "stream",
     "text": [
      "Total reward: 1.0\n",
      "Good-bye.\n"
     ]
    }
   ],
   "source": [
    "env = gym.make(\"CartPole-v1\", render_mode=\"rgb_array\")\n",
    "s, _ = env.reset()\n",
    "done = False\n",
    "cumulative_reward = 0\n",
    "sc = 0\n",
    "\n",
    "while not done:\n",
    "    a = agent.compute_single_action(observation=s, explore=False)\n",
    "    s, r, terminated, truncated, info = env.step(action=a)\n",
    "\n",
    "    cumulative_reward += r\n",
    "    done = terminated or truncated\n",
    "    # visualize_env(env=env, pause_sec=0.1)\n",
    "    image_filename = f\"{output_directory}frame_{sc:04d}.png\"\n",
    "    sc+=1\n",
    "    image = env.render()\n",
    "    plt.imshow(image)  # Display the image (optional)\n",
    "    plt.savefig(image_filename)\n",
    "    plt.pause(0.1)\n",
    "    plt.close()\n",
    "    break\n",
    "\n",
    "print(\"Total reward:\", cumulative_reward)\n",
    "\n",
    "print(\"Good-bye.\")"
   ]
  },
  {
   "cell_type": "code",
   "execution_count": 19,
   "metadata": {},
   "outputs": [
    {
     "name": "stdout",
     "output_type": "stream",
     "text": [
      "['frame_0000.png', 'frame_0001.png', 'frame_0002.png', 'frame_0003.png', 'frame_0004.png', 'frame_0005.png', 'frame_0006.png', 'frame_0007.png', 'frame_0008.png', 'frame_0009.png', 'frame_0010.png', 'frame_0011.png', 'frame_0012.png', 'frame_0013.png', 'frame_0014.png', 'frame_0015.png', 'frame_0016.png', 'frame_0017.png', 'frame_0018.png', 'frame_0019.png', 'frame_0020.png', 'frame_0021.png', 'frame_0022.png', 'frame_0023.png', 'frame_0024.png', 'frame_0025.png', 'frame_0026.png', 'frame_0027.png', 'frame_0028.png', 'frame_0029.png', 'frame_0030.png', 'frame_0031.png', 'frame_0032.png', 'frame_0033.png', 'frame_0034.png', 'frame_0035.png', 'frame_0036.png', 'frame_0037.png', 'frame_0038.png', 'frame_0039.png', 'frame_0040.png', 'frame_0041.png', 'frame_0042.png', 'frame_0043.png', 'frame_0044.png', 'frame_0045.png', 'frame_0046.png', 'frame_0047.png', 'frame_0048.png', 'frame_0049.png', 'frame_0050.png', 'frame_0051.png', 'frame_0052.png', 'frame_0053.png', 'frame_0054.png', 'frame_0055.png', 'frame_0056.png', 'frame_0057.png', 'frame_0058.png', 'frame_0059.png', 'frame_0060.png', 'frame_0061.png', 'frame_0062.png', 'frame_0063.png', 'frame_0064.png', 'frame_0065.png', 'frame_0066.png', 'frame_0067.png', 'frame_0068.png', 'frame_0069.png', 'frame_0070.png', 'frame_0071.png', 'frame_0072.png', 'frame_0073.png', 'frame_0074.png', 'frame_0075.png', 'frame_0076.png', 'frame_0077.png', 'frame_0078.png', 'frame_0079.png', 'frame_0080.png', 'frame_0081.png', 'frame_0082.png', 'frame_0083.png', 'frame_0084.png', 'frame_0085.png', 'frame_0086.png', 'frame_0087.png', 'frame_0088.png', 'frame_0089.png', 'frame_0090.png', 'frame_0091.png', 'frame_0092.png', 'frame_0093.png', 'frame_0094.png', 'frame_0095.png', 'frame_0096.png', 'frame_0097.png', 'frame_0098.png', 'frame_0099.png', 'frame_0100.png', 'frame_0101.png', 'frame_0102.png', 'frame_0103.png', 'frame_0104.png', 'frame_0105.png', 'frame_0106.png', 'frame_0107.png', 'frame_0108.png', 'frame_0109.png', 'frame_0110.png', 'frame_0111.png', 'frame_0112.png', 'frame_0113.png', 'frame_0114.png', 'frame_0115.png', 'frame_0116.png', 'frame_0117.png', 'frame_0118.png', 'frame_0119.png', 'frame_0120.png', 'frame_0121.png', 'frame_0122.png', 'frame_0123.png', 'frame_0124.png', 'frame_0125.png', 'frame_0126.png', 'frame_0127.png', 'frame_0128.png', 'frame_0129.png', 'frame_0130.png', 'frame_0131.png', 'frame_0132.png', 'frame_0133.png', 'frame_0134.png', 'frame_0135.png', 'frame_0136.png', 'frame_0137.png', 'frame_0138.png', 'frame_0139.png', 'frame_0140.png', 'frame_0141.png', 'frame_0142.png', 'frame_0143.png', 'frame_0144.png', 'frame_0145.png', 'frame_0146.png', 'frame_0147.png', 'frame_0148.png', 'frame_0149.png', 'frame_0150.png', 'frame_0151.png', 'frame_0152.png', 'frame_0153.png', 'frame_0154.png', 'frame_0155.png', 'frame_0156.png', 'frame_0157.png', 'frame_0158.png', 'frame_0159.png', 'frame_0160.png', 'frame_0161.png', 'frame_0162.png', 'frame_0163.png', 'frame_0164.png', 'frame_0165.png', 'frame_0166.png', 'frame_0167.png', 'frame_0168.png', 'frame_0169.png', 'frame_0170.png', 'frame_0171.png', 'frame_0172.png', 'frame_0173.png', 'frame_0174.png', 'frame_0175.png', 'frame_0176.png', 'frame_0177.png', 'frame_0178.png', 'frame_0179.png', 'frame_0180.png', 'frame_0181.png', 'frame_0182.png', 'frame_0183.png', 'frame_0184.png', 'frame_0185.png', 'frame_0186.png', 'frame_0187.png', 'frame_0188.png', 'frame_0189.png', 'frame_0190.png', 'frame_0191.png', 'frame_0192.png', 'frame_0193.png', 'frame_0194.png', 'frame_0195.png', 'frame_0196.png', 'frame_0197.png', 'frame_0198.png', 'frame_0199.png', 'frame_0200.png', 'frame_0201.png', 'frame_0202.png', 'frame_0203.png', 'frame_0204.png', 'frame_0205.png', 'frame_0206.png', 'frame_0207.png', 'frame_0208.png', 'frame_0209.png', 'frame_0210.png', 'frame_0211.png', 'frame_0212.png', 'frame_0213.png', 'frame_0214.png', 'frame_0215.png', 'frame_0216.png', 'frame_0217.png', 'frame_0218.png', 'frame_0219.png', 'frame_0220.png', 'frame_0221.png', 'frame_0222.png', 'frame_0223.png', 'frame_0224.png', 'frame_0225.png', 'frame_0226.png', 'frame_0227.png', 'frame_0228.png', 'frame_0229.png', 'frame_0230.png', 'frame_0231.png', 'frame_0232.png', 'frame_0233.png', 'frame_0234.png']\n"
     ]
    },
    {
     "name": "stderr",
     "output_type": "stream",
     "text": [
      "/tmp/ipykernel_706475/3247138100.py:18: DeprecationWarning: Starting with ImageIO v3 the behavior of this function will switch to that of iio.v3.imread. To keep the current behavior (and make this warning disappear) use `import imageio.v2 as imageio` or call `imageio.v2.imread` directly.\n",
      "  image = imageio.imread(image_path)\n"
     ]
    }
   ],
   "source": [
    "import imageio\n",
    "import os\n",
    "\n",
    "# Path to the directory containing the images\n",
    "image_directory = \"frames/\"\n",
    "\n",
    "# List of image file names\n",
    "image_files = sorted([file for file in os.listdir(image_directory) if file.endswith(\".png\")])\n",
    "print(image_files)\n",
    "\n",
    "# Create a list of image paths\n",
    "image_paths = [os.path.join(image_directory, file) for file in image_files]\n",
    "\n",
    "# Save the GIF animation\n",
    "output_gif_path = \"animation.gif\"\n",
    "with imageio.get_writer(output_gif_path, mode=\"I\", duration=0.1) as writer:\n",
    "    for image_path in image_paths:\n",
    "        image = imageio.imread(image_path)\n",
    "        writer.append_data(image)\n"
   ]
  }
 ],
 "metadata": {
  "kernelspec": {
   "display_name": "Python 3",
   "language": "python",
   "name": "python3"
  },
  "language_info": {
   "codemirror_mode": {
    "name": "ipython",
    "version": 3
   },
   "file_extension": ".py",
   "mimetype": "text/x-python",
   "name": "python",
   "nbconvert_exporter": "python",
   "pygments_lexer": "ipython3",
   "version": "3.8.17"
  },
  "orig_nbformat": 4
 },
 "nbformat": 4,
 "nbformat_minor": 2
}
