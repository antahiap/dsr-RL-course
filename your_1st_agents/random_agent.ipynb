{
 "cells": [
  {
   "cell_type": "code",
   "execution_count": 1,
   "metadata": {},
   "outputs": [],
   "source": [
    "import gymnasium as gym\n",
    "env = gym.make(\"CartPole-v1\", render_mode=\"rgb_array\")\n",
    "\n",
    "# Here you create an env and let an agent interact with it. You can measure how\n",
    "# successful is the random agent, i.e. how much reward it accumulates.\n",
    "\n",
    "# 0 - Create an env\n",
    "\n",
    "# 1 - Reset the env.\n",
    "\n",
    "# 2 - Let a random agent interact with the env.\n",
    "#\n",
    "# 2.1. Choose a random action (with in the action space of the env.)\n",
    "# 2.2. and pass it to the environment\n",
    "# 2.3. How much reward did you get for that action? Keep the score!\n",
    "\n",
    "# 2.4. Repeat the 2.{1,2,3} until the end of the episode\n",
    "\n",
    "# 2.5. How much total reward you got? What does it mean to have large/small reward?\n",
    "\n",
    "# 3. Repeat the whole section 2. Do you get the same total reward?"
   ]
  },
  {
   "cell_type": "code",
   "execution_count": 53,
   "metadata": {},
   "outputs": [],
   "source": [
    "import random\n",
    "\n",
    "\n",
    "def practice(ntr = 200, act=1):\n",
    "\n",
    "    env.reset()\n",
    "    sum_rev = 0\n",
    "    for i in range(0, ntr):\n",
    "\n",
    "        step =random.randint(0, act)\n",
    "        s, r, ter, tru, _ = env.step(action=step)\n",
    "        sum_rev += r\n",
    "\n",
    "        if ter==True or tru==True:\n",
    "            break\n",
    "    return(sum_rev, i)"
   ]
  },
  {
   "cell_type": "code",
   "execution_count": 64,
   "metadata": {},
   "outputs": [
    {
     "name": "stdout",
     "output_type": "stream",
     "text": [
      "(21.0, 20)\n",
      "(50.0, 49)\n"
     ]
    }
   ],
   "source": [
    "print(practice(200, 1))\n",
    "print(practice(200, 1))"
   ]
  },
  {
   "cell_type": "code",
   "execution_count": 65,
   "metadata": {},
   "outputs": [
    {
     "name": "stdout",
     "output_type": "stream",
     "text": [
      "Total reward: 21.0\n"
     ]
    }
   ],
   "source": [
    "import numpy as np\n",
    "\n",
    "env.reset()\n",
    "nr_actions = env.action_space.n\n",
    "done=False\n",
    "total_reward=0\n",
    "\n",
    "while not done:\n",
    "    a = np.random.randint(nr_actions)\n",
    "\n",
    "    s, r, terminated, truncated, info = env.step(action=a)\n",
    "    total_reward +=r\n",
    "    done= terminated or truncated\n",
    "\n",
    "print('Total reward:',total_reward)"
   ]
  }
 ],
 "metadata": {
  "kernelspec": {
   "display_name": "Python 3",
   "language": "python",
   "name": "python3"
  },
  "language_info": {
   "codemirror_mode": {
    "name": "ipython",
    "version": 3
   },
   "file_extension": ".py",
   "mimetype": "text/x-python",
   "name": "python",
   "nbconvert_exporter": "python",
   "pygments_lexer": "ipython3",
   "version": "3.8.17"
  },
  "orig_nbformat": 4
 },
 "nbformat": 4,
 "nbformat_minor": 2
}
